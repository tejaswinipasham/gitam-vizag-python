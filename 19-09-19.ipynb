{
 "cells": [
  {
   "cell_type": "markdown",
   "metadata": {},
   "source": [
    "##control statements\n",
    "- condition statements or selection statements\n",
    "- if else\n",
    "- iterational statements or loop statements\n",
    "- while \n",
    "- for"
   ]
  },
  {
   "cell_type": "code",
   "execution_count": null,
   "metadata": {},
   "outputs": [],
   "source": [
    "#check the input is leap year or not\n",
    "year=int(input(''))\n",
    "if year%400==0 or (year%100!=0"
   ]
  },
  {
   "cell_type": "code",
   "execution_count": null,
   "metadata": {},
   "outputs": [],
   "source": [
    "\n"
   ]
  },
  {
   "cell_type": "code",
   "execution_count": null,
   "metadata": {},
   "outputs": [],
   "source": [
    "# print numbers from 1 to 10\n",
    "# input: 10\n",
    "# output: 1 2 3 4 5 .... 10\n",
    "n = int(input('enter a number:'))\n",
    "i = 1\n",
    "while i<=n:\n",
    "    print(i,end= \" \")\n",
    "    i=i+1"
   ]
  },
  {
   "cell_type": "code",
   "execution_count": 2,
   "metadata": {},
   "outputs": [
    {
     "name": "stdout",
     "output_type": "stream",
     "text": [
      "10\n",
      "30\n"
     ]
    }
   ],
   "source": [
    "#Read number a input\n",
    "#output as only even numbers from 1 o N\n",
    "\n",
    "#input : 10\n",
    "#output : 30(2+4+6+8+10)\n",
    " \n",
    "n= int(input(''))\n",
    "i= 1\n",
    "s= 0\n",
    "while i<=n:\n",
    "  if i%2==0:\n",
    "    s=s+i;\n",
    "  i=i+1\n",
    "print(s)\n",
    "\n",
    "\n"
   ]
  },
  {
   "cell_type": "code",
   "execution_count": 3,
   "metadata": {},
   "outputs": [
    {
     "name": "stdout",
     "output_type": "stream",
     "text": [
      "123\n",
      "3 2 1 "
     ]
    }
   ],
   "source": [
    "#Read a number as input\n",
    "#Output has to be digits of a number\n",
    "\n",
    "#input: 123\n",
    "#outputs: 3 2 1 \n",
    "\n",
    "n=int(input(''))\n",
    "while n!=0:\n",
    "    print(n%10,end=' ')\n",
    "    n=n//10"
   ]
  },
  {
   "cell_type": "markdown",
   "metadata": {},
   "source": [
    "## functional programming\n",
    "- Simple\n",
    "- Easy to understand\n",
    "- Better reusibility\n",
    "- Lengthy program will be divided into sub programs \n"
   ]
  },
  {
   "cell_type": "code",
   "execution_count": null,
   "metadata": {},
   "outputs": [],
   "source": [
    "def nameofthefunction(<parameters>):\n",
    "    statements\n",
    "    return"
   ]
  },
  {
   "cell_type": "code",
   "execution_count": 48,
   "metadata": {},
   "outputs": [
    {
     "data": {
      "text/plain": [
       "6"
      ]
     },
     "execution_count": 48,
     "metadata": {},
     "output_type": "execute_result"
    }
   ],
   "source": [
    "#Read a number\n",
    "#Print the even digit sum from the number\n",
    "\n",
    "# Input : 1234\n",
    "# Output: 6(2+4)\n",
    " \n",
    "def evenDigitsum(n):\n",
    "    s=0\n",
    "    while n!=0:\n",
    "        r=n%10\n",
    "        if(r%2==0):\n",
    "            s=s+r\n",
    "        n=n//10\n",
    "    return s\n",
    "evenDigitsum(1234)    "
   ]
  },
  {
   "cell_type": "code",
   "execution_count": 52,
   "metadata": {},
   "outputs": [
    {
     "data": {
      "text/plain": [
       "9"
      ]
     },
     "execution_count": 52,
     "metadata": {},
     "output_type": "execute_result"
    }
   ],
   "source": [
    "#Input: 19535\n",
    "#Output: 9(Large digit of the given number)\n",
    "#Functional programming\n",
    "\n",
    "def largeDigit(n):\n",
    "    large=0\n",
    "    while n!=0:\n",
    "        r=n%10\n",
    "        if large < r:\n",
    "            large= r\n",
    "        n= n//10\n",
    "    return large   \n",
    "  \n",
    "largeDigit(19535)\n"
   ]
  },
  {
   "cell_type": "code",
   "execution_count": 55,
   "metadata": {},
   "outputs": [
    {
     "name": "stdout",
     "output_type": "stream",
     "text": [
      "yes\n",
      "no\n"
     ]
    }
   ],
   "source": [
    "#Read a number as input\n",
    "#Output Yes or No\n",
    "\n",
    "#Input :145\n",
    "#Output : Yes\n",
    "\n",
    "#Input : 123\n",
    "#Output : No\n",
    "\n",
    "#Individual Digit factorial sum is same as input number\n",
    "\n",
    "def factorial(n):\n",
    "    fact= 1\n",
    "    i=1\n",
    "    while i<=n:\n",
    "          fact=fact*i\n",
    "          i=i+1 \n",
    "    return fact    \n",
    "        \n",
    "def digitFactsum(n):\n",
    "    s=0\n",
    "    buffer=n\n",
    "    while n!=0:\n",
    "        r=n%10\n",
    "        s+=factorial(r)\n",
    "        n=n//10\n",
    "    if buffer ==s:\n",
    "        return 'yes'\n",
    "    else:\n",
    "        return 'no'\n",
    "    return\n",
    "\n",
    "print(digitFactsum(145)) #Yes\n",
    "print(digitFactsum(123)) #No\n",
    "\n",
    "        \n",
    "        \n",
    "    \n",
    "    \n",
    "\n",
    "\n",
    "\n"
   ]
  },
  {
   "cell_type": "code",
   "execution_count": null,
   "metadata": {},
   "outputs": [],
   "source": [
    "#read a number as a input\n",
    "#output as palindrome or not as palindrome\n",
    "#palindrome .. A number after reversing is same as the original value\n",
    "\n",
    "#Input: 121\n",
    "#output: Not a palindrome\n",
    "\n",
    "def ispalindrome(n):\n",
    "    rev=0\n",
    "    buffer=n\n",
    "    while n!=0:\n",
    "        rev=rev*10+(n%10)\n",
    "        n=n/10\n",
    "    if rev    \n",
    "        \n",
    "    \n",
    "    return\n"
   ]
  }
 ],
 "metadata": {
  "kernelspec": {
   "display_name": "Python 3",
   "language": "python",
   "name": "python3"
  },
  "language_info": {
   "codemirror_mode": {
    "name": "ipython",
    "version": 3
   },
   "file_extension": ".py",
   "mimetype": "text/x-python",
   "name": "python",
   "nbconvert_exporter": "python",
   "pygments_lexer": "ipython3",
   "version": "3.7.3"
  }
 },
 "nbformat": 4,
 "nbformat_minor": 2
}
